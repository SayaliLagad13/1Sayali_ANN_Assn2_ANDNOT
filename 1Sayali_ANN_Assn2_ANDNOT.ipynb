{
 "cells": [
  {
   "cell_type": "markdown",
   "id": "ba4754b6",
   "metadata": {},
   "source": [
    "# ANDNOT Function Assignment 2"
   ]
  },
  {
   "cell_type": "code",
   "execution_count": null,
   "id": "a3f318c4",
   "metadata": {},
   "outputs": [],
   "source": []
  },
  {
   "cell_type": "code",
   "execution_count": 4,
   "id": "907a1b8d",
   "metadata": {},
   "outputs": [
    {
     "name": "stdout",
     "output_type": "stream",
     "text": [
      "Input  |  Output\n",
      "----------------\n",
      "Enter input values separated by spaces (or 'q' to quit): 1 1\n",
      "[1, 1]  |  0\n",
      "Enter input values separated by spaces (or 'q' to quit): 1 0\n",
      "[1, 0]  |  1\n",
      "Enter input values separated by spaces (or 'q' to quit): 0 1\n",
      "[0, 1]  |  0\n",
      "Enter input values separated by spaces (or 'q' to quit): 0 0\n",
      "[0, 0]  |  0\n",
      "Enter input values separated by spaces (or 'q' to quit): q\n"
     ]
    }
   ],
   "source": [
    "class McCullochPittsNeuron:\n",
    "    def __init__(self, weights, threshold):\n",
    "        self.weights = weights\n",
    "        self.threshold = threshold\n",
    "        \n",
    "    def activate(self, inputs):\n",
    "        weighted_sum = sum([inputs[i] * self.weights[i] for i in range(len(inputs))])\n",
    "        return int(weighted_sum >= self.threshold)\n",
    "    \n",
    "def main():\n",
    "    weights = [1, -1]\n",
    "    threshold = 1\n",
    "    \n",
    "    neuron = McCullochPittsNeuron(weights, threshold)\n",
    "    \n",
    "    print(\"Input  |  Output\")\n",
    "    print(\"----------------\")\n",
    "    \n",
    "    while True:\n",
    "        user_input = input(\"Enter input values separated by spaces (or 'q' to quit): \").strip().lower()\n",
    "        if user_input == 'q':\n",
    "            break\n",
    "        inputs = list(map(int, user_input.split()))\n",
    "        output = neuron.activate(inputs)\n",
    "        \n",
    "        print(f\"{inputs}  |  {output}\")\n",
    "        \n",
    "if __name__ == \"__main__\":\n",
    "    main()\n",
    "        "
   ]
  },
  {
   "cell_type": "code",
   "execution_count": null,
   "id": "bcd2ad29",
   "metadata": {},
   "outputs": [],
   "source": []
  }
 ],
 "metadata": {
  "kernelspec": {
   "display_name": "Python 3 (ipykernel)",
   "language": "python",
   "name": "python3"
  },
  "language_info": {
   "codemirror_mode": {
    "name": "ipython",
    "version": 3
   },
   "file_extension": ".py",
   "mimetype": "text/x-python",
   "name": "python",
   "nbconvert_exporter": "python",
   "pygments_lexer": "ipython3",
   "version": "3.9.13"
  }
 },
 "nbformat": 4,
 "nbformat_minor": 5
}
